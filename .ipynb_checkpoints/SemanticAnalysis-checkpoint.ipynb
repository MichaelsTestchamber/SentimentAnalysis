{
 "cells": [
  {
   "cell_type": "code",
   "execution_count": null,
   "metadata": {},
   "outputs": [],
   "source": [
    "# Get sentiment of text form website"
   ]
  },
  {
   "cell_type": "code",
   "execution_count": null,
   "metadata": {},
   "outputs": [],
   "source": [
    "# pip install newspaper3k and textblob"
   ]
  },
  {
   "cell_type": "code",
   "execution_count": 3,
   "metadata": {},
   "outputs": [],
   "source": [
    "# import libraries\n",
    "from textblob import TextBlob\n",
    "import nltk\n",
    "from newspaper import Article"
   ]
  },
  {
   "cell_type": "code",
   "execution_count": 53,
   "metadata": {},
   "outputs": [],
   "source": [
    "# Get the article\n",
    "#url = 'https://everythingcomputerscience.com'\n",
    "url = 'https://edition.cnn.com/2020/04/03/economy/march-jobs-report-coronavirus/index.html'\n",
    "article = Article(url)\n",
    "\n",
    "# Find keywords on sites, fx Versartis site:Marketwatch.com\n",
    "# Find ticker data by symbol name, fx GOOG\n",
    "# CNN economy search url!!\n",
    "# https://edition.cnn.com/2020/04/03/economy/march-jobs-report-coronavirus/index.html"
   ]
  },
  {
   "cell_type": "code",
   "execution_count": 44,
   "metadata": {},
   "outputs": [],
   "source": [
    "# Do some NLP\n",
    "article.download()\n",
    "article.parse()\n",
    "#nltk.download('punkt')\n",
    "article.nlp()"
   ]
  },
  {
   "cell_type": "code",
   "execution_count": 51,
   "metadata": {},
   "outputs": [
    {
     "name": "stdout",
     "output_type": "stream",
     "text": [
      "i hate like you\n"
     ]
    }
   ],
   "source": [
    "# Get summary of article\n",
    "#text = article.summary\n",
    "# text = article.text\n",
    "text = 'i hate like you'\n",
    "print(text)"
   ]
  },
  {
   "cell_type": "code",
   "execution_count": 52,
   "metadata": {},
   "outputs": [
    {
     "name": "stdout",
     "output_type": "stream",
     "text": [
      "-0.8\n"
     ]
    }
   ],
   "source": [
    "# Create a TextBlob object\n",
    "obj = TextBlob(text)\n",
    "\n",
    "# This return a value between -1 and 1\n",
    "sentiment = obj.sentiment.polarity\n",
    "print(sentiment)"
   ]
  },
  {
   "cell_type": "code",
   "execution_count": 28,
   "metadata": {},
   "outputs": [
    {
     "name": "stdout",
     "output_type": "stream",
     "text": [
      "The text is positive\n"
     ]
    }
   ],
   "source": [
    "if sentiment == 0:\n",
    "    print(\"The text is neutral\")\n",
    "elif sentiment > 0:\n",
    "    print(\"The text is positive\")\n",
    "else:\n",
    "    print(\"The text is negative\")"
   ]
  },
  {
   "cell_type": "code",
   "execution_count": null,
   "metadata": {},
   "outputs": [],
   "source": []
  }
 ],
 "metadata": {
  "kernelspec": {
   "display_name": "Python 3",
   "language": "python",
   "name": "python3"
  },
  "language_info": {
   "codemirror_mode": {
    "name": "ipython",
    "version": 3
   },
   "file_extension": ".py",
   "mimetype": "text/x-python",
   "name": "python",
   "nbconvert_exporter": "python",
   "pygments_lexer": "ipython3",
   "version": "3.7.4"
  }
 },
 "nbformat": 4,
 "nbformat_minor": 2
}
