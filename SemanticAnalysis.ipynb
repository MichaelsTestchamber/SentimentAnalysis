{
 "cells": [
  {
   "cell_type": "code",
   "execution_count": null,
   "metadata": {},
   "outputs": [],
   "source": [
    "# Get sentiment of text form website"
   ]
  },
  {
   "cell_type": "code",
   "execution_count": null,
   "metadata": {},
   "outputs": [],
   "source": [
    "# pip install newspaper3k and textblob"
   ]
  },
  {
   "cell_type": "code",
   "execution_count": 1,
   "metadata": {},
   "outputs": [],
   "source": [
    "# import libraries\n",
    "from textblob import TextBlob\n",
    "import nltk\n",
    "from newspaper import Article"
   ]
  },
  {
   "cell_type": "code",
   "execution_count": 2,
   "metadata": {},
   "outputs": [],
   "source": [
    "# Get the article\n",
    "#url = 'https://everythingcomputerscience.com'\n",
    "url = 'https://edition.cnn.com/2020/04/03/economy/march-jobs-report-coronavirus/index.html'\n",
    "article = Article(url)\n",
    "\n",
    "# Find keywords on sites, fx Versartis site:Marketwatch.com\n",
    "# Find ticker data by symbol name, fx GOOG\n",
    "# CNN economy search url!!\n",
    "# https://edition.cnn.com/2020/04/03/economy/march-jobs-report-coronavirus/index.html"
   ]
  },
  {
   "cell_type": "code",
   "execution_count": 3,
   "metadata": {},
   "outputs": [],
   "source": [
    "# Do some NLP\n",
    "article.download()\n",
    "article.parse()\n",
    "#nltk.download('punkt')\n",
    "article.nlp()"
   ]
  },
  {
   "cell_type": "code",
   "execution_count": 10,
   "metadata": {},
   "outputs": [
    {
     "name": "stdout",
     "output_type": "stream",
     "text": [
      "New York (CNN Business) The American economy lost more jobs than it gained for the first time in a decade.\n",
      "\n",
      "In March, the economy shed 701,000 jobs, according to the Bureau of Labor Statistics. It was the first time the economy lost jobs in a month since September 2010, and the worst month for American jobs since the depths of the Great Recession in March 2009.\n",
      "\n",
      "The unemployment rate shot up to 4.4%, from a near 50-year low of 3.5%. It was the highest unemployment rate since August 2017 and the largest single-month change in the jobless rate since January 1975.\n",
      "\n",
      "Most of the job destruction took place at restaurants and bars, where the economy lost 417,400 jobs. Retailers cut 46,200 jobs and health care employment fell by 43,000 jobs as routine visits at dentists and physicians offices fell.\n",
      "\n",
      "If there's an ounce of good news in the March report, it's that bulk of the layoffs were temporary: 1.8 million people were unemployed temporarily last month, up from 1 million in February.\n",
      "\n",
      "Read More\n"
     ]
    }
   ],
   "source": [
    "# Get summary of article\n",
    "#text = article.summary\n",
    "text = article.text\n",
    "#text = 'eww'\n",
    "print(text)"
   ]
  },
  {
   "cell_type": "code",
   "execution_count": 11,
   "metadata": {},
   "outputs": [
    {
     "name": "stdout",
     "output_type": "stream",
     "text": [
      "0.19545454545454546\n"
     ]
    }
   ],
   "source": [
    "# Create a TextBlob object\n",
    "obj = TextBlob(text)\n",
    "\n",
    "# This return a value between -1 and 1\n",
    "sentiment = obj.sentiment.polarity\n",
    "print(sentiment)"
   ]
  },
  {
   "cell_type": "code",
   "execution_count": 9,
   "metadata": {},
   "outputs": [
    {
     "name": "stdout",
     "output_type": "stream",
     "text": [
      "The text is neutral\n"
     ]
    }
   ],
   "source": [
    "if sentiment == 0:\n",
    "    print(\"The text is neutral\")\n",
    "elif sentiment > 0:\n",
    "    print(\"The text is positive\")\n",
    "else:\n",
    "    print(\"The text is negative\")"
   ]
  },
  {
   "cell_type": "code",
   "execution_count": null,
   "metadata": {},
   "outputs": [],
   "source": []
  }
 ],
 "metadata": {
  "kernelspec": {
   "display_name": "Python 3",
   "language": "python",
   "name": "python3"
  },
  "language_info": {
   "codemirror_mode": {
    "name": "ipython",
    "version": 3
   },
   "file_extension": ".py",
   "mimetype": "text/x-python",
   "name": "python",
   "nbconvert_exporter": "python",
   "pygments_lexer": "ipython3",
   "version": "3.7.4"
  }
 },
 "nbformat": 4,
 "nbformat_minor": 2
}
