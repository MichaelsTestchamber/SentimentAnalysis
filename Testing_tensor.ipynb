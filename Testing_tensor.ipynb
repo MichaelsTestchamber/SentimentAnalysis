{
 "metadata": {
  "language_info": {
   "codemirror_mode": {
    "name": "ipython",
    "version": 3
   },
   "file_extension": ".py",
   "mimetype": "text/x-python",
   "name": "python",
   "nbconvert_exporter": "python",
   "pygments_lexer": "ipython3",
   "version": "3.7.9-final"
  },
  "orig_nbformat": 2,
  "kernelspec": {
   "name": "python3",
   "display_name": "Python 3.7.9 64-bit ('projectTwit': conda)",
   "metadata": {
    "interpreter": {
     "hash": "a439ff59171f550246f3a3b8d7e49a8c4ff3249d96c4de982afde58db4b7a67a"
    }
   }
  }
 },
 "nbformat": 4,
 "nbformat_minor": 2,
 "cells": [
  {
   "cell_type": "code",
   "execution_count": 8,
   "metadata": {},
   "outputs": [],
   "source": [
    "#%load_ext tensorboard"
   ]
  },
  {
   "cell_type": "code",
   "execution_count": 28,
   "metadata": {},
   "outputs": [
    {
     "output_type": "stream",
     "name": "stdout",
     "text": [
      "Model: \"sequential_1\"\n_________________________________________________________________\nLayer (type)                 Output Shape              Param #   \n=================================================================\nlstm_1 (LSTM)                (None, 60, 50)            10400     \n_________________________________________________________________\nlstm_2 (LSTM)                (None, 50)                20200     \n_________________________________________________________________\ndense_1 (Dense)              (None, 25)                1275      \n_________________________________________________________________\ndense_2 (Dense)              (None, 1)                 26        \n=================================================================\nTotal params: 31,901\nTrainable params: 31,901\nNon-trainable params: 0\n_________________________________________________________________\nNone\n"
     ]
    },
    {
     "output_type": "display_data",
     "data": {
      "text/plain": "Reusing TensorBoard on port 6006 (pid 19408), started 0:52:34 ago. (Use '!kill 19408' to kill it.)"
     },
     "metadata": {}
    }
   ],
   "source": [
    "import tensorflow as tf\n",
    "import datetime, os\n",
    "from keras.models import load_model\n",
    "\n",
    "#model = load_model('model.tf')\n",
    "tf.keras.Sequential.load_weights(model,'model.tf')\n",
    "\n",
    "print(model.summary())\n",
    "\n",
    "logs_base_dir = \"./logs\"\n",
    "os.makedirs(logs_base_dir, exist_ok=True)\n",
    "%tensorboard --logdir {logs_base_dir}"
   ]
  },
  {
   "cell_type": "code",
   "execution_count": null,
   "metadata": {},
   "outputs": [],
   "source": []
  }
 ]
}